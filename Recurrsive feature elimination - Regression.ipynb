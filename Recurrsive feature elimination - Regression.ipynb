{
 "cells": [
  {
   "cell_type": "code",
   "execution_count": 1,
   "id": "9e41f44f",
   "metadata": {},
   "outputs": [],
   "source": [
    "import pandas as pd\n",
    "from sklearn.model_selection import train_test_split\n",
    "from sklearn.preprocessing import StandardScaler\n",
    "from sklearn.feature_selection import RFE\n",
    "from sklearn.linear_model import LinearRegression\n",
    "from sklearn.svm import SVR\n",
    "from sklearn.tree import DecisionTreeRegressor\n",
    "from sklearn.ensemble import RandomForestRegressor"
   ]
  },
  {
   "cell_type": "code",
   "execution_count": 2,
   "id": "9deb644e",
   "metadata": {},
   "outputs": [],
   "source": [
    "def split_scalar(indep_X, dep_Y):\n",
    "    X_train, X_test, y_train, y_test = train_test_split(indep_X, dep_Y, test_size=0.25, random_state=0)\n",
    "    sc = StandardScaler()\n",
    "    X_train = sc.fit_transform(X_train)\n",
    "    X_test = sc.transform(X_test)\n",
    "    return X_train, X_test, y_train, y_test"
   ]
  },
  {
   "cell_type": "code",
   "execution_count": 3,
   "id": "e3f9cdf0",
   "metadata": {},
   "outputs": [],
   "source": [
    "def r2_prediction(regressor, X_test, y_test):\n",
    "    y_pred = regressor.predict(X_test)\n",
    "    from sklearn.metrics import r2_score\n",
    "    r2 = r2_score(y_test, y_pred)\n",
    "    return r2"
   ]
  },
  {
   "cell_type": "code",
   "execution_count": 4,
   "id": "6c1259de",
   "metadata": {},
   "outputs": [],
   "source": [
    "def Linear(X_train, y_train, X_test):       \n",
    "    regressor = LinearRegression()\n",
    "    regressor.fit(X_train, y_train)\n",
    "    r2 = r2_prediction(regressor, X_test, y_test)\n",
    "    return r2  "
   ]
  },
  {
   "cell_type": "code",
   "execution_count": 5,
   "id": "6cbd5aa0",
   "metadata": {},
   "outputs": [],
   "source": [
    "def svm_linear(X_train, y_train, X_test):                \n",
    "    regressor = SVR(kernel='linear')\n",
    "    regressor.fit(X_train, y_train)\n",
    "    r2 = r2_prediction(regressor, X_test, y_test)\n",
    "    return r2 "
   ]
  },
  {
   "cell_type": "code",
   "execution_count": 6,
   "id": "09633f25",
   "metadata": {},
   "outputs": [],
   "source": [
    "def svm_NL(X_train, y_train, X_test):                \n",
    "    regressor = SVR(kernel='rbf')\n",
    "    regressor.fit(X_train, y_train)\n",
    "    r2 = r2_prediction(regressor, X_test, y_test)\n",
    "    return r2  "
   ]
  },
  {
   "cell_type": "code",
   "execution_count": 7,
   "id": "ad823d05",
   "metadata": {},
   "outputs": [],
   "source": [
    "def Decision(X_train, y_train, X_test):        \n",
    "    regressor = DecisionTreeRegressor(random_state=0)\n",
    "    regressor.fit(X_train, y_train)\n",
    "    r2 = r2_prediction(regressor, X_test, y_test)\n",
    "    return r2 "
   ]
  },
  {
   "cell_type": "code",
   "execution_count": 8,
   "id": "cd0f152b",
   "metadata": {},
   "outputs": [],
   "source": [
    "def random(X_train, y_train, X_test):       \n",
    "    regressor = RandomForestRegressor(n_estimators=10, random_state=0)\n",
    "    regressor.fit(X_train, y_train)\n",
    "    r2 = r2_prediction(regressor, X_test, y_test)\n",
    "    return r2 "
   ]
  },
  {
   "cell_type": "code",
   "execution_count": 9,
   "id": "06cedb87",
   "metadata": {},
   "outputs": [],
   "source": [
    "def rfeFeature(indep_X, dep_Y, n):\n",
    "    models = [\n",
    "        LinearRegression(),\n",
    "        SVR(kernel='linear'),\n",
    "        DecisionTreeRegressor(random_state=0),\n",
    "        RandomForestRegressor(n_estimators=10, random_state=0)\n",
    "    ]\n",
    "\n",
    "    rfelist = []\n",
    "\n",
    "    for model in models:\n",
    "        log_rfe = RFE(model)  # Remove the second argument here\n",
    "        log_fit = log_rfe.fit(indep_X, dep_Y)\n",
    "        log_rfe_feature = log_fit.transform(indep_X)\n",
    "        rfelist.append(log_rfe_feature)\n",
    "\n",
    "    return rfelist\n",
    "\n"
   ]
  },
  {
   "cell_type": "code",
   "execution_count": 23,
   "id": "f5d8dc89",
   "metadata": {},
   "outputs": [],
   "source": [
    "def rfe_regression(r_2lin,r_2svml,r_2des,r_2rf): \n",
    "    rfedataframe = pd.DataFrame(index=['Linear', 'SVM', 'Decision', 'Random'], columns=['Linear', 'SVM', 'Decision', 'Random'])\n",
    "\n",
    "    for number, idex in enumerate(rfedataframe.index):        \n",
    "        rfedataframe['Linear'][idex] = r_2lin[number]       \n",
    "        rfedataframe['SVM'][idex] = r_2svml[number]\n",
    "        rfedataframe['Decision'][idex] = r_2des[number]\n",
    "        rfedataframe['Random'][idex] = r_2rf[number]\n",
    "    \n",
    "    return rfedataframe"
   ]
  },
  {
   "cell_type": "code",
   "execution_count": 24,
   "id": "aa0c65b9",
   "metadata": {},
   "outputs": [],
   "source": [
    "dataset1 = pd.read_csv(\"prep.csv\", index_col=None)\n",
    "df2 = dataset1\n",
    "df2 = pd.get_dummies(df2, drop_first=True)"
   ]
  },
  {
   "cell_type": "code",
   "execution_count": 25,
   "id": "b902a5eb",
   "metadata": {},
   "outputs": [
    {
     "name": "stderr",
     "output_type": "stream",
     "text": [
      "C:\\Users\\lavanya\\anaconda3\\envs\\aiml\\lib\\site-packages\\ipykernel_launcher.py:1: FutureWarning: In a future version of pandas all arguments of DataFrame.drop except for the argument 'labels' will be keyword-only\n",
      "  \"\"\"Entry point for launching an IPython kernel.\n"
     ]
    }
   ],
   "source": [
    "indep_X = df2.drop('classification_yes', 1)\n",
    "dep_Y = df2['classification_yes']\n",
    "rfelist = rfeFeature(indep_X, dep_Y, 3)\n"
   ]
  },
  {
   "cell_type": "code",
   "execution_count": 26,
   "id": "76247185",
   "metadata": {},
   "outputs": [],
   "source": [
    "r_2lin = []\n",
    "r_2svml = []\n",
    "r_2svmnl = []\n",
    "r_2des = []\n",
    "r_2rf = []\n"
   ]
  },
  {
   "cell_type": "code",
   "execution_count": 27,
   "id": "80c00ef6",
   "metadata": {},
   "outputs": [],
   "source": [
    "for i in rfelist:   \n",
    "    X_train, X_test, y_train, y_test=split_scalar(i,dep_Y)  \n",
    "    r2_lin=Linear(X_train,y_train,X_test)\n",
    "    r_2lin.append(r2_lin)\n",
    "    \n",
    "    r2_sl=svm_linear(X_train,y_train,X_test)    \n",
    "    r_2svml.append(r2_sl)\n",
    "    \n",
    "    r2_NL=svm_NL(X_train,y_train,X_test)\n",
    "    r_2svmnl.append(r2_NL)\n",
    "    \n",
    "    r2_d=Decision(X_train,y_train,X_test)\n",
    "    r_2des.append(r2_d)\n",
    "    \n",
    "    r2_r=random(X_train,y_train,X_test)\n",
    "    r_2rf.append(r2_r)"
   ]
  },
  {
   "cell_type": "code",
   "execution_count": 28,
   "id": "cdc79db8",
   "metadata": {},
   "outputs": [
    {
     "name": "stdout",
     "output_type": "stream",
     "text": [
      "            Linear       SVM  Decision    Random\n",
      "Linear    0.708586  0.683656  0.968654  0.955031\n",
      "SVM       0.708869  0.677961  0.998794  0.974438\n",
      "Decision  0.696629  0.661806  0.826389  0.923177\n",
      "Random    0.652204  0.597077  0.782986  0.925347\n"
     ]
    }
   ],
   "source": [
    "result = rfe_regression(r_2lin, r_2svml, r_2des, r_2rf)\n",
    "print(result)"
   ]
  },
  {
   "cell_type": "code",
   "execution_count": null,
   "id": "a2a51ca3",
   "metadata": {},
   "outputs": [],
   "source": []
  }
 ],
 "metadata": {
  "kernelspec": {
   "display_name": "Python 3 (ipykernel)",
   "language": "python",
   "name": "python3"
  },
  "language_info": {
   "codemirror_mode": {
    "name": "ipython",
    "version": 3
   },
   "file_extension": ".py",
   "mimetype": "text/x-python",
   "name": "python",
   "nbconvert_exporter": "python",
   "pygments_lexer": "ipython3",
   "version": "3.7.16"
  }
 },
 "nbformat": 4,
 "nbformat_minor": 5
}
